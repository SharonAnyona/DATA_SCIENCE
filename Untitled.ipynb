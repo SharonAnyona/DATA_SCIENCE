{
 "cells": [
  {
   "cell_type": "code",
   "execution_count": 4,
   "id": "4c69c6a7-df56-4d62-bc44-11dd0e2747aa",
   "metadata": {},
   "outputs": [
    {
     "name": "stdin",
     "output_type": "stream",
     "text": [
      "enter the first number 12\n",
      "enter the second number 12\n"
     ]
    },
    {
     "name": "stdout",
     "output_type": "stream",
     "text": [
      "sum is: 24\n"
     ]
    }
   ],
   "source": [
    "num1=int (input(\"enter the first number\"))\n",
    "num2=int (input(\"enter the second number\"))\n",
    "sum=num1+num2\n",
    "print(\"sum is:\" , sum)"
   ]
  },
  {
   "cell_type": "code",
   "execution_count": null,
   "id": "6163ad52-473e-4195-81ff-7a277e013362",
   "metadata": {},
   "outputs": [],
   "source": []
  }
 ],
 "metadata": {
  "kernelspec": {
   "display_name": "Python 3 (ipykernel)",
   "language": "python",
   "name": "python3"
  },
  "language_info": {
   "codemirror_mode": {
    "name": "ipython",
    "version": 3
   },
   "file_extension": ".py",
   "mimetype": "text/x-python",
   "name": "python",
   "nbconvert_exporter": "python",
   "pygments_lexer": "ipython3",
   "version": "3.11.7"
  }
 },
 "nbformat": 4,
 "nbformat_minor": 5
}
